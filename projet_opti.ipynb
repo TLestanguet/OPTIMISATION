{
 "cells": [
  {
   "cell_type": "code",
   "execution_count": 21,
   "metadata": {},
   "outputs": [],
   "source": [
    "import pandas as pd\n",
    "import numpy as np\n",
    "import matplotlib.pyplot as plt\n",
    "from scipy.optimize import minimize"
   ]
  },
  {
   "cell_type": "markdown",
   "metadata": {},
   "source": [
    "On note $\\alpha = (\\alpha_1, \\alpha_2, \\alpha_3, \\alpha_4) \\in \\mathbb{R}^4 $\n",
    "\n",
    "Le problème des moindres carrés correspondant à l'identification de $\\alpha$ dans (2) est : \n",
    "\n",
    "$ \\alpha = argmin_{x \\in \\mathbb{R}^4}||Dx^T-(v_{réelle}(i+1)-v_{réelle}(i))||^2 $ où, $ \\forall i \\in [0, N], D_{i, \\cdot} = \\Delta t(1, -v_i, I(i), T(i))$ et $v_{réelle,i} = v(i) $"
   ]
  },
  {
   "cell_type": "code",
   "execution_count": 22,
   "metadata": {},
   "outputs": [
    {
     "name": "stdout",
     "output_type": "stream",
     "text": [
      "0.009996924023377422\n",
      "[-0.29420791  0.02131773  0.02853839  0.01429096]\n"
     ]
    },
    {
     "data": {
      "text/plain": [
       "[<matplotlib.lines.Line2D at 0x1a09bae4f50>]"
      ]
     },
     "execution_count": 22,
     "metadata": {},
     "output_type": "execute_result"
    },
    {
     "data": {
      "image/png": "[encoded data removed]",
      "text/plain": [
       "<Figure size 640x480 with 1 Axes>"
      ]
     },
     "metadata": {},
     "output_type": "display_data"
    }
   ],
   "source": [
    "df = pd.read_csv(\"data_velo.csv\")\n",
    "\n",
    "vitesse = df[\"Vitesse [m/s]\"].tolist()\n",
    "intensite = df[\"I [A]\"].tolist()\n",
    "couple = df[\"Couple pédale [Nm]\"].tolist()\n",
    "temps = df[\"Time [s]\"].tolist()\n",
    "\n",
    "N = len(temps)\n",
    "deltat = max(temps)/N\n",
    "print(deltat)\n",
    "\n",
    "D = np.array([[deltat, -deltat*vitesse[i], deltat*intensite[i], deltat*couple[i]] for i in range(N)])\n",
    "#print(D)\n",
    "\n",
    "vitesse_decalee = vitesse[1:] + [vitesse[-1]]\n",
    "\n",
    "alpha = np.linalg.lstsq(D, np.array(vitesse_decalee) - np.array(vitesse), rcond=None)[0]\n",
    "\n",
    "print(alpha)\n",
    "\n",
    "\n",
    "vitesse_simulee = [vitesse[0]]\n",
    "for i in range(N-2): \n",
    "    vitesse_simulee.append(vitesse_simulee[i] + deltat*(alpha[0] - alpha[1]*vitesse_simulee[i] + alpha[2]*intensite[i] + alpha[3]*couple[i]))\n",
    "\n",
    "plt.plot(temps, vitesse, 'r')\n",
    "plt.plot(temps[:N-1], vitesse_simulee)"
   ]
  },
  {
   "cell_type": "markdown",
   "metadata": {},
   "source": [
    "7.a) \n",
    "On considère la matrice $A = A^T_kA_k$ définie positive (par hypothèse), et on définit $ U=a_{k+1} \\in M _{m,1}(\\mathbb{R})$.\n",
    "On a donc aussi $\\tilde{A} = A^T_{k+1}A_{k+1}$ qui est inversible. Ainsi, d'après la formule de SHerman-Morrison-Woodburry :\n",
    "$$ \\tilde{A}^{-1} = A^{-1} - A^{-1}U(I_p + U^TA^{-1}U)^{-1}U^TA^{-1}$$\n",
    "Donc comme $p=1$ et $U=a_{k+1}$ :  \n",
    "$$ \\tilde{A}^{-1} = A^{-1} - A^{-1}a_{k+1}\\frac{1}{1 + a_{k+1}^TA^{-1}a_{k+1}}a_{k+1}^TA^{-1}$$\n",
    "\n",
    "Avec  $A = A^T_kA_k$ et en introduisant $\\gamma_k = \\frac{1}{1 + a_{k+1}^TA^{-1}a_{k+1}}$ :  \n",
    "$$ \\tilde{A}^{-1} = (A^T_kA_k)^{-1} - \\gamma_k(A^T_kA_k)^{-1}a_{k+1} a_{k+1}^T(A^T_kA_k)^{-1}$$\n",
    "\n",
    "Avec $K_k = \\gamma_k(A^T_kA_k)^{-1}a_{k+1}$ on obtient : \n",
    "\n",
    "$$ \\tilde{A}^{-1} = (A^T_kA_k)^{-1} - K_k a_{k+1}^T(A^T_kA_k)^{-1}$$"
   ]
  },
  {
   "cell_type": "markdown",
   "metadata": {},
   "source": [
    "7. b)\n",
    "Par définition, on a:\n",
    "$$x_{k+1} = (A^T_{k+1}A_{k+1})^{-1}A^T_{k+1}b_{k+1} =  \\tilde{A}^{-1}A^T_{k+1}b_{k+1}$$\n",
    "D'où, avec la 7.a) :\n",
    "\n",
    "$$\n",
    "\\begin{align*}\n",
    "    x_{k+1} & = [(A^T_kA_k)^{-1} - K_k a_{k+1}^T(A^T_kA_k)^{-1}]A^T_{k+1}b_{k+1} \\\\\n",
    "            & = \\quad(A^T_kA_k)^{-1}A^T_{k+1}b_{k+1}- K_k a_{k+1}^T(A^T_kA_k)^{-1}A^T_{k+1}b_{k+1}\n",
    "\\end{align*}\n",
    "$$\n",
    "\n",
    "Or : $A^T_{k+1}b_{k+1} = (A^T_k, a_{k+1})(b_k, \\tilde{b}) = A^T_kb_k + \\tilde{b}a_{k+1}$\n",
    "\n",
    "Donc : \n",
    "\n",
    "$$\n",
    "\\begin{align*}\n",
    "    x_{k+1} &= (A^T_kA_k)^{-1}(A^T_kb_k + \\tilde{b}a_{k+1})- K_k a_{k+1}^T(A^T_kA_k)^{-1}(A^T_kb_k + \\tilde{b}a_{k+1}) \\\\\n",
    "            & = \\quad x_k + \\tilde{b}(A^T_kA_k)^{-1} a_{k+1}- K_k a_{k+1}^Tx_k - \\tilde{b}K_k a_{k+1}^T(A^T_kA_k)^{-1}a_{k+1} \\\\\n",
    "            & = \\quad x_k + \\frac{\\tilde{b}}{\\gamma_k}K_k- K_k a_{k+1}^Tx_k - \\tilde{b}K_k a_{k+1}^T(A^T_kA_k)^{-1}a_{k+1} \\\\\n",
    "            & = \\quad x_k + K_k(\\frac{\\tilde{b}}{\\gamma_k}- a_{k+1}^Tx_k - \\tilde{b}a_{k+1}^T(A^T_kA_k)^{-1}a_{k+1}) \\\\\n",
    "            & = \\quad x_k + K_k(\\frac{\\tilde{b}}{\\gamma_k}- a_{k+1}^Tx_k - \\tilde{b}(\\frac{1}{\\gamma_k}-1)) \\\\\n",
    "            & = \\quad x_k + K_k(\\tilde{b}- a_{k+1}^Tx_k)\n",
    "\\end{align*}\n",
    "$$"
   ]
  },
  {
   "cell_type": "markdown",
   "metadata": {},
   "source": [
    "7. c)\n",
    "On peut definir un algorithme ne nécessitant pas d'inversion de matrices au cours des itérations car en exprimant $x_{k+1}$ en fonction de $x_k$, l'inversion apparaît dans $K_k$. Or il est question d'inverser $(A^T_kA_k)$, chose que nous pouvons faire sans le calculer explicitement étant donnée la relation de récurrence (7)."
   ]
  },
  {
   "cell_type": "code",
   "execution_count": 5,
   "metadata": {},
   "outputs": [
    {
     "ename": "LinAlgError",
     "evalue": "Singular matrix",
     "output_type": "error",
     "traceback": [
      "\u001b[1;31m---------------------------------------------------------------------------\u001b[0m",
      "\u001b[1;31mLinAlgError\u001b[0m                               Traceback (most recent call last)",
      "Cell \u001b[1;32mIn[5], line 27\u001b[0m\n\u001b[0;32m     24\u001b[0m         K \u001b[38;5;241m=\u001b[39m gamma \u001b[38;5;241m*\u001b[39m np\u001b[38;5;241m.\u001b[39mdot(SMW(n\u001b[38;5;241m-\u001b[39m\u001b[38;5;241m1\u001b[39m), a[n])\n\u001b[0;32m     25\u001b[0m         \u001b[38;5;28;01mreturn\u001b[39;00m moindres_carres_recursifs(n\u001b[38;5;241m-\u001b[39m\u001b[38;5;241m1\u001b[39m) \u001b[38;5;241m+\u001b[39m K(b[n] \u001b[38;5;241m-\u001b[39m np\u001b[38;5;241m.\u001b[39mdot(a[n],moindres_carres_recursifs(n\u001b[38;5;241m-\u001b[39m\u001b[38;5;241m1\u001b[39m)))\n\u001b[1;32m---> 27\u001b[0m \u001b[38;5;28mprint\u001b[39m(\u001b[43mnp\u001b[49m\u001b[38;5;241;43m.\u001b[39;49m\u001b[43mlinalg\u001b[49m\u001b[38;5;241;43m.\u001b[39;49m\u001b[43minv\u001b[49m\u001b[43m(\u001b[49m\u001b[43mnp\u001b[49m\u001b[38;5;241;43m.\u001b[39;49m\u001b[43mdot\u001b[49m\u001b[43m(\u001b[49m\u001b[43ma\u001b[49m\u001b[43m[\u001b[49m\u001b[38;5;241;43m0\u001b[39;49m\u001b[43m]\u001b[49m\u001b[43m[\u001b[49m\u001b[43m:\u001b[49m\u001b[43m,\u001b[49m\u001b[43m \u001b[49m\u001b[43mnp\u001b[49m\u001b[38;5;241;43m.\u001b[39;49m\u001b[43mnewaxis\u001b[49m\u001b[43m]\u001b[49m\u001b[43m,\u001b[49m\u001b[43m \u001b[49m\u001b[43ma\u001b[49m\u001b[43m[\u001b[49m\u001b[38;5;241;43m0\u001b[39;49m\u001b[43m]\u001b[49m\u001b[43m[\u001b[49m\u001b[43mnp\u001b[49m\u001b[38;5;241;43m.\u001b[39;49m\u001b[43mnewaxis\u001b[49m\u001b[43m,\u001b[49m\u001b[43m \u001b[49m\u001b[43m:\u001b[49m\u001b[43m]\u001b[49m\u001b[43m)\u001b[49m\u001b[43m)\u001b[49m)\n",
      "File \u001b[1;32mc:\\Users\\rapha\\miniconda3\\Lib\\site-packages\\numpy\\linalg\\linalg.py:561\u001b[0m, in \u001b[0;36minv\u001b[1;34m(a)\u001b[0m\n\u001b[0;32m    559\u001b[0m signature \u001b[38;5;241m=\u001b[39m \u001b[38;5;124m'\u001b[39m\u001b[38;5;124mD->D\u001b[39m\u001b[38;5;124m'\u001b[39m \u001b[38;5;28;01mif\u001b[39;00m isComplexType(t) \u001b[38;5;28;01melse\u001b[39;00m \u001b[38;5;124m'\u001b[39m\u001b[38;5;124md->d\u001b[39m\u001b[38;5;124m'\u001b[39m\n\u001b[0;32m    560\u001b[0m extobj \u001b[38;5;241m=\u001b[39m get_linalg_error_extobj(_raise_linalgerror_singular)\n\u001b[1;32m--> 561\u001b[0m ainv \u001b[38;5;241m=\u001b[39m \u001b[43m_umath_linalg\u001b[49m\u001b[38;5;241;43m.\u001b[39;49m\u001b[43minv\u001b[49m\u001b[43m(\u001b[49m\u001b[43ma\u001b[49m\u001b[43m,\u001b[49m\u001b[43m \u001b[49m\u001b[43msignature\u001b[49m\u001b[38;5;241;43m=\u001b[39;49m\u001b[43msignature\u001b[49m\u001b[43m,\u001b[49m\u001b[43m \u001b[49m\u001b[43mextobj\u001b[49m\u001b[38;5;241;43m=\u001b[39;49m\u001b[43mextobj\u001b[49m\u001b[43m)\u001b[49m\n\u001b[0;32m    562\u001b[0m \u001b[38;5;28;01mreturn\u001b[39;00m wrap(ainv\u001b[38;5;241m.\u001b[39mastype(result_t, copy\u001b[38;5;241m=\u001b[39m\u001b[38;5;28;01mFalse\u001b[39;00m))\n",
      "File \u001b[1;32mc:\\Users\\rapha\\miniconda3\\Lib\\site-packages\\numpy\\linalg\\linalg.py:112\u001b[0m, in \u001b[0;36m_raise_linalgerror_singular\u001b[1;34m(err, flag)\u001b[0m\n\u001b[0;32m    111\u001b[0m \u001b[38;5;28;01mdef\u001b[39;00m \u001b[38;5;21m_raise_linalgerror_singular\u001b[39m(err, flag):\n\u001b[1;32m--> 112\u001b[0m     \u001b[38;5;28;01mraise\u001b[39;00m LinAlgError(\u001b[38;5;124m\"\u001b[39m\u001b[38;5;124mSingular matrix\u001b[39m\u001b[38;5;124m\"\u001b[39m)\n",
      "\u001b[1;31mLinAlgError\u001b[0m: Singular matrix"
     ]
    }
   ],
   "source": [
    "a = np.array([[deltat, -deltat*vitesse[i], deltat*intensite[i], deltat*couple[i]] for i in range(N)])\n",
    "b = np.array([[vitesse_decalee[i]-vitesse[i]] for i in range(N-1)])\n",
    "\n",
    "\n",
    "def SMW(n):\n",
    "    if n == 0 :\n",
    "        return np.linalg.inv(np.dot(a[0][:, np.newaxis], a[0][np.newaxis, :]))\n",
    "\n",
    "    else : \n",
    "        gamma = 1/(1 + np.dot(a[n], np.dot(SMW(n-1), a[n])))\n",
    "        K = gamma * np.dot(SMW(n-1), a[n])\n",
    "        return SMW(n-1) - np.dot(np.outer(K, a[n]), SMW(n-1))\n",
    "\n",
    "\n",
    "\n",
    "def moindres_carres_recursifs(n):\n",
    "    if n == 0 :\n",
    "        x_0 = np.dot(SMW(0), np.transpose(a[0]))*b[0]\n",
    "        return x_0\n",
    "    else : \n",
    "        gamma = 1/(1 + np.dot(a[n], np.dot(SMW(n-1), a[n])))\n",
    "        K = gamma * np.dot(SMW(n-1), a[n])\n",
    "        return moindres_carres_recursifs(n-1) + K(b[n] - np.dot(a[n],moindres_carres_recursifs(n-1)))\n",
    "\n",
    "print(np.linalg.inv(np.dot(a[0][:, np.newaxis], a[0][np.newaxis, :])))\n"
   ]
  },
  {
   "cell_type": "code",
   "execution_count": 30,
   "metadata": {},
   "outputs": [
    {
     "data": {
      "text/plain": [
       "array([-4.81234439e+01, -2.40126004e+01,  2.45531159e-03,  6.57332565e-03])"
      ]
     },
     "execution_count": 30,
     "metadata": {},
     "output_type": "execute_result"
    }
   ],
   "source": [
    "a = np.array([[deltat, -deltat*vitesse[i], deltat*intensite[i], deltat*couple[i]] for i in range(N)])\n",
    "b = np.array([[vitesse_decalee[i]-vitesse[i]] for i in range(N-1)])\n",
    "\n",
    "\n",
    "def SMW(n):\n",
    "    if n == 4 :\n",
    "        A = np.vstack((a[0], a[1], a[2], a[3], a[4]))\n",
    "        return np.linalg.inv(np.dot(np.transpose(A), A))\n",
    "    \n",
    "    elif n > 4 : \n",
    "        gamma = 1/(1 + np.dot(a[n], np.dot(SMW(n-1), a[n])))\n",
    "        K = gamma * np.dot(SMW(n-1), a[n])\n",
    "        return SMW(n-1) - np.dot(np.outer(K, a[n]), SMW(n-1))\n",
    "    else :\n",
    "        return 'n doit être supérieur à 4'\n",
    "\n",
    "\n",
    "\n",
    "def moindres_carres_recursifs(n):\n",
    "    if n == 4 :\n",
    "        return np.array([0, 0, 0, 0])\n",
    "    \n",
    "    elif n > 4 : \n",
    "        gamma = 1/(1 + np.dot(a[n], np.dot(SMW(n-1), a[n])))\n",
    "        K = gamma * np.dot(SMW(n-1), a[n])\n",
    "        return moindres_carres_recursifs(n-1) + K*(b[n] - np.dot(a[n],moindres_carres_recursifs(n-1)))\n",
    "    \n",
    "    else : \n",
    "        'n doit être supérieur à 4'\n",
    "\n",
    "\n",
    "moindres_carres_recursifs(10)"
   ]
  },
  {
   "cell_type": "code",
   "execution_count": 32,
   "metadata": {},
   "outputs": [
    {
     "data": {
      "text/plain": [
       "array([-1.50481626e+01, -7.39375651e+00,  1.36763914e-02,  1.42203969e-02])"
      ]
     },
     "execution_count": 32,
     "metadata": {},
     "output_type": "execute_result"
    }
   ],
   "source": [
    "a = np.array([[deltat, -deltat*vitesse[i], deltat*intensite[i], deltat*couple[i]] for i in range(N)])\n",
    "b = np.array([[vitesse_decalee[i]-vitesse[i]] for i in range(N-1)])\n",
    "\n",
    "\n",
    "def SMW(n):\n",
    "    if n == 4 :\n",
    "        A = np.vstack((a[0], a[1], a[2], a[3], a[4]))\n",
    "        return np.linalg.inv(np.dot(np.transpose(A), A))\n",
    "    \n",
    "    elif n > 4 : \n",
    "        gamma = 1/(1 + np.dot(a[n], np.dot(SMW(n-1), a[n])))\n",
    "        K = gamma * np.dot(SMW(n-1), a[n])\n",
    "        return SMW(n-1) - np.dot(np.outer(K, a[n]), SMW(n-1))\n",
    "    else :\n",
    "        return 'n doit être supérieur à 4'\n",
    "\n",
    "\n",
    "\n",
    "def moindres_carres_recursifs_complet(n):\n",
    "    if n == 4 :\n",
    "        A = np.vstack((a[0], a[1], a[2], a[3], a[4]))\n",
    "        return (np.linalg.inv(np.dot(np.transpose(A), A)), np.array([0, 0, 0, 0]))\n",
    "    \n",
    "    elif n > 4 : \n",
    "        gamma = 1/(1 + np.dot(a[n], np.dot(moindres_carres_recursifs_complet(n-1)[0], a[n])))\n",
    "        K = gamma * np.dot(moindres_carres_recursifs_complet(n-1)[0], a[n])\n",
    "        return (moindres_carres_recursifs_complet(n-1)[0] - np.dot(np.outer(K, a[n]), moindres_carres_recursifs_complet(n-1)[0]), moindres_carres_recursifs_complet(n-1)[1] + K*(b[n] - np.dot(a[n], moindres_carres_recursifs_complet(n-1)[1])))\n",
    "    \n",
    "    else : \n",
    "        'n doit être supérieur à 4'\n",
    "\n",
    "\n",
    "moindres_carres_recursifs_complet(11)[1]"
   ]
  },
  {
   "cell_type": "markdown",
   "metadata": {},
   "source": [
    "# 3e partie\n"
   ]
  },
  {
   "cell_type": "markdown",
   "metadata": {},
   "source": [
    "9. Il y a en toute généralité un autre terme à prendre en compte lié à la pente de la route lorsqu'on n'est plus en terrain plat. En l'occurence ce terme est une fonction de la position $\\gamma$ qui n'est pas linéaire\n",
    "\n",
    "Si la pente est nulle, la fonction f ne dépend plus que de "
   ]
  },
  {
   "cell_type": "markdown",
   "metadata": {},
   "source": [
    "On définit $\\mathbf{z}$ : \n",
    "\n",
    "$$\n",
    "\\mathbf{z} = \\begin{pmatrix}\n",
    "T_0 \\\\\n",
    "T_1 \\\\\n",
    "\\vdots \\\\\n",
    "T_N \\\\\n",
    "x_0 \\\\\n",
    "x_1 \\\\\n",
    "\\vdots \\\\\n",
    "x_N \\\\\n",
    "v_0 \\\\\n",
    "v_1 \\\\\n",
    "\\vdots \\\\\n",
    "v_n \\\\\n",
    "I_0 \\\\\n",
    "I_1 \\\\\n",
    "\\vdots \\\\\n",
    "I_N\n",
    "\n",
    "\\end{pmatrix} \\in \\mathbb{R}^{4N+4}\n",
    "$$"
   ]
  },
  {
   "cell_type": "markdown",
   "metadata": {},
   "source": [
    "$$\n",
    "\\mathbf{c_{éq, 1}}(z) = \\begin{pmatrix}\n",
    "x_1 - x_0 - \\Delta t v_0 \\\\\n",
    "x_2 - x_1 - \\Delta t v_1 \\\\\n",
    "\\vdots \\\\\n",
    "x_N - x_{N-1} - \\Delta t v_{N-1}\n",
    "\\end{pmatrix} \\in \\mathbb{R}^N\n",
    "$$\n",
    "\n",
    "$$\n",
    "\\mathbf{c_{éq, 2}}(z) = \\begin{pmatrix}\n",
    "v_1 - v_0 + \\Delta t (\\alpha_1 - \\alpha_2 v_0 + \\alpha_3 I_0 + \\alpha_4 T_0 - g\\gamma(x_0)) \\\\\n",
    "v_2 - v_1 + \\Delta t (\\alpha_1 - \\alpha_2 v_1 + \\alpha_3 I_1 + \\alpha_4 T_1 - g\\gamma(x_1)) \\\\\n",
    "\\vdots \\\\\n",
    "v_N - v_{N-1} + \\Delta t (\\alpha_1 - \\alpha_2 v_{N-1} + \\alpha_3 I_{N-1} + \\alpha_4 T_{N-1} - g\\gamma(x_{N-1})) \n",
    "\\end{pmatrix} \\in \\mathbb{R}^N\n",
    "$$\n",
    "\n",
    "$$\n",
    "\\mathbf{c_{in, 3}}(z) = \\begin{pmatrix}\n",
    "I_0 - I_M \\\\\n",
    "I_1 - I_M \\\\\n",
    "\\vdots \\\\\n",
    "I_N - I_M\n",
    "\\end{pmatrix} \\in \\mathbb{R}^{N+1}\n",
    "$$\n",
    "\n",
    "$$\n",
    "\\mathbf{c_{in, 4}}(z) = \\begin{pmatrix}\n",
    "-I_0 \\\\\n",
    "-I_1 \\\\\n",
    "\\vdots \\\\\n",
    "-I_N\n",
    "\\end{pmatrix} \\in \\mathbb{R}^{N+1} \n",
    "$$\n",
    "\n",
    "$$\n",
    "\\mathbf{c_{in, 5}}(z) = \\sum_{i = 0}^{N} \\Delta t I_i - Q_{bat} \\in \\mathbb{R}\n",
    "$$\n"
   ]
  },
  {
   "cell_type": "code",
   "execution_count": 41,
   "metadata": {},
   "outputs": [],
   "source": [
    "#Fonction à minimiser\n",
    "\n",
    "def f(z):\n",
    "    z = np.array(z)\n",
    "    return (np.sum(z[0 : N+1]**2))\n",
    "\n",
    "\n",
    "# Définition des contraintes\n",
    "\n",
    "def c1(z):\n",
    "    z = np.array(z)\n",
    "    return z[N+2 : 2*N+2] - z[N+1 : 2*N+1] - deltat * z[2*N+2 : 3*N+2]\n",
    "\n",
    "def c2(z):\n",
    "    z = np.array(z)\n",
    "    return z[2*N+3 : 3*N+3] - z[2*N+2 : 3*N+2] + deltat * ( alpha_1 - alpha_2 * z[2*N+2 : 3*N+2] + alpha_3 * z[3*N+3 : 4*N+3] + alpha_4 * z[0 : N] )\n",
    "\n",
    "def c3(z):\n",
    "    z = np.array(z)\n",
    "    return z[3*N+3 : 4*N+4] - I_M\n",
    "\n",
    "def c4(z): \n",
    "    z = np.array(z)\n",
    "    return - z[3*N+3 : 4*N+4]\n",
    "\n",
    "def c5(z): \n",
    "    z = np.array(z)\n",
    "    return deltat * np.sum(z[3*N+3 : 4*N+4]) - Q_bat\n",
    "\n",
    "contraintes = ({'type' : 'eq', 'fun' : c1}, {'type' : 'eq', 'fun' : c2}, {'type' : 'ineq', 'fun' : c3}, {'type' : 'ineq', 'fun' : c4}, {'type' : 'ineq', 'fun' : c5})\n",
    "\n",
    "\n",
    "\n",
    "\n"
   ]
  },
  {
   "cell_type": "code",
   "execution_count": 52,
   "metadata": {},
   "outputs": [
    {
     "name": "stdout",
     "output_type": "stream",
     "text": [
      "41 41\n"
     ]
    },
    {
     "data": {
      "image/png": "[encoded data removed]",
      "text/plain": [
       "<Figure size 640x480 with 1 Axes>"
      ]
     },
     "metadata": {},
     "output_type": "display_data"
    }
   ],
   "source": [
    "T = 100\n",
    "deltat = 2.5\n",
    "N = int(T/deltat)\n",
    "Q_bat = 700\n",
    "I_M = 30\n",
    "alpha_1, alpha_2, alpha_3, alpha_4 = alpha\n",
    "\n",
    "#Choix des variables initiales : \n",
    "\n",
    "couple_init = [0 for i in range (N+1)]\n",
    "position_init = [12.5*i for i in range(N+1)] #vitesse uniforme\n",
    "vitesse_init = [5 for i in range(N+1)] #vitesse uniforme\n",
    "intensite_init = [0.3 for i in  range(N+1)] #on se rapproche de la contraitne Q_bat\n",
    "\n",
    "z_init = np.array(couple_init + position_init + vitesse_init + intensite_init)\n",
    "\n",
    "#Minimisation sous contraintes\n",
    "\n",
    "sol = minimize(f, z_init, constraints = contraintes)\n",
    "\n",
    "temps = [2.5*i for i in range(N+1)]\n",
    "couple_sol = sol.x[0:N+1]\n",
    "position_sol = sol.x[N+1:2*N+2]\n",
    "vitesse_sol = sol.x[2*N+2:3*N+3]\n",
    "intensite_sol = sol.x[3*N+3:4*N+4]\n",
    "\n",
    "plt.plot(temps, vitesse_sol)\n",
    "plt.show()\n"
   ]
  }
 ],
 "metadata": {
  "kernelspec": {
   "display_name": "base",
   "language": "python",
   "name": "python3"
  },
  "language_info": {
   "codemirror_mode": {
    "name": "ipython",
    "version": 3
   },
   "file_extension": ".py",
   "mimetype": "text/x-python",
   "name": "python",
   "nbconvert_exporter": "python",
   "pygments_lexer": "ipython3",
   "version": "3.11.5"
  }
 },
 "nbformat": 4,
 "nbformat_minor": 2
}
