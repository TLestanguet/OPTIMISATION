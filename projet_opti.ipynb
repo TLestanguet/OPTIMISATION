{
 "cells": [
  {
   "cell_type": "code",
   "execution_count": 2,
   "metadata": {},
   "outputs": [],
   "source": [
    "import pandas as pd\n",
    "import numpy as np\n",
    "import matplotlib.pyplot as plt"
   ]
  },
  {
   "cell_type": "markdown",
   "metadata": {},
   "source": [
    "On note $\\alpha = (\\alpha_1, \\alpha_2, \\alpha_3, \\alpha_4) \\in \\mathbb{R}^4 $\n",
    "\n",
    "Le problème des moindres carrés correspondant à l'identification de $\\alpha$ dans (2) est : \n",
    "\n",
    "$ \\alpha = argmin_{x \\in \\mathbb{R}^4}||Dx^T-(v_{réelle}(i+1)-v_{réelle}(i))||^2 $ où, $ \\forall i \\in [0, N], D_{i, \\cdot} = \\Delta t(1, -v_i, I(i), T(i))$ et $v_{réelle,i} = v(i) $"
   ]
  },
  {
   "cell_type": "code",
   "execution_count": 7,
   "metadata": {},
   "outputs": [
    {
     "name": "stdout",
     "output_type": "stream",
     "text": [
      "0.009996924023377422\n",
      "[[ 0.00999692 -0.01999385  0.057438    0.12153248]\n",
      " [ 0.00999692 -0.01999392  0.05758902  0.12740193]\n",
      " [ 0.00999692 -0.01999487  0.0502142   0.13189035]\n",
      " ...\n",
      " [ 0.00999692 -0.08770676  0.06300057  0.04902731]\n",
      " [ 0.00999692 -0.08768355  0.06821077  0.0435031 ]\n",
      " [ 0.00999692 -0.08766105  0.06267336  0.0435031 ]]\n",
      "[-0.29420791  0.02131773  0.02853839  0.01429096]\n"
     ]
    },
    {
     "data": {
      "text/html": [
       "<div>\n",
       "<style scoped>\n",
       "    .dataframe tbody tr th:only-of-type {\n",
       "        vertical-align: middle;\n",
       "    }\n",
       "\n",
       "    .dataframe tbody tr th {\n",
       "        vertical-align: top;\n",
       "    }\n",
       "\n",
       "    .dataframe thead th {\n",
       "        text-align: right;\n",
       "    }\n",
       "</style>\n",
       "<table border=\"1\" class=\"dataframe\">\n",
       "  <thead>\n",
       "    <tr style=\"text-align: right;\">\n",
       "      <th></th>\n",
       "      <th>Unnamed: 0</th>\n",
       "      <th>Time [s]</th>\n",
       "      <th>Vitesse [m/s]</th>\n",
       "      <th>Couple pédale [Nm]</th>\n",
       "      <th>I [A]</th>\n",
       "    </tr>\n",
       "  </thead>\n",
       "  <tbody>\n",
       "    <tr>\n",
       "      <th>0</th>\n",
       "      <td>0</td>\n",
       "      <td>0.00</td>\n",
       "      <td>2.000000</td>\n",
       "      <td>12.156987</td>\n",
       "      <td>5.745567</td>\n",
       "    </tr>\n",
       "    <tr>\n",
       "      <th>1</th>\n",
       "      <td>1</td>\n",
       "      <td>0.01</td>\n",
       "      <td>2.000007</td>\n",
       "      <td>12.744113</td>\n",
       "      <td>5.760674</td>\n",
       "    </tr>\n",
       "    <tr>\n",
       "      <th>2</th>\n",
       "      <td>2</td>\n",
       "      <td>0.02</td>\n",
       "      <td>2.000103</td>\n",
       "      <td>13.193093</td>\n",
       "      <td>5.022965</td>\n",
       "    </tr>\n",
       "    <tr>\n",
       "      <th>3</th>\n",
       "      <td>3</td>\n",
       "      <td>0.03</td>\n",
       "      <td>2.000051</td>\n",
       "      <td>13.227630</td>\n",
       "      <td>5.639821</td>\n",
       "    </tr>\n",
       "    <tr>\n",
       "      <th>4</th>\n",
       "      <td>4</td>\n",
       "      <td>0.04</td>\n",
       "      <td>2.000181</td>\n",
       "      <td>13.676609</td>\n",
       "      <td>6.531113</td>\n",
       "    </tr>\n",
       "  </tbody>\n",
       "</table>\n",
       "</div>"
      ],
      "text/plain": [
       "   Unnamed: 0  Time [s]  Vitesse [m/s]  Couple pédale [Nm]     I [A]\n",
       "0           0      0.00       2.000000           12.156987  5.745567\n",
       "1           1      0.01       2.000007           12.744113  5.760674\n",
       "2           2      0.02       2.000103           13.193093  5.022965\n",
       "3           3      0.03       2.000051           13.227630  5.639821\n",
       "4           4      0.04       2.000181           13.676609  6.531113"
      ]
     },
     "execution_count": 7,
     "metadata": {},
     "output_type": "execute_result"
    },
    {
     "data": {
      "image/png": "[encoded data removed]",
      "text/plain": [
       "<Figure size 640x480 with 1 Axes>"
      ]
     },
     "metadata": {},
     "output_type": "display_data"
    }
   ],
   "source": [
    "df = pd.read_csv(\"data_velo.csv\")\n",
    "\n",
    "vitesse = df[\"Vitesse [m/s]\"].tolist()\n",
    "intensite = df[\"I [A]\"].tolist()\n",
    "couple = df[\"Couple pédale [Nm]\"].tolist()\n",
    "temps = df[\"Time [s]\"].tolist()\n",
    "\n",
    "N = len(temps)\n",
    "deltat = max(temps)/N\n",
    "print(deltat)\n",
    "\n",
    "D = np.array([[deltat, -deltat*vitesse[i], deltat*intensite[i], deltat*couple[i]] for i in range(N)])\n",
    "print(D)\n",
    "\n",
    "vitesse_decalee = vitesse[1:] + [vitesse[-1]]\n",
    "\n",
    "alpha = np.linalg.lstsq(D, np.array(vitesse_decalee) - np.array(vitesse), rcond=None)[0]\n",
    "\n",
    "print(alpha)\n",
    "\n",
    "\n",
    "vitesse_simulee = [vitesse[0]]\n",
    "for i in range(N-2): \n",
    "    vitesse_simulee.append(vitesse_simulee[i] + deltat*(alpha[0] - alpha[1]*vitesse_simulee[i] + alpha[2]*intensite[i] + alpha[3]*couple[i]))\n",
    "\n",
    "plt.plot(temps, vitesse, 'r')\n",
    "plt.plot(temps[:N-1], vitesse_simulee)\n",
    "df.head()"
   ]
  },
  {
   "cell_type": "markdown",
   "metadata": {},
   "source": [
    "7.a) \n",
    "On considère la matrice $A = A^T_kA_k$ définie positive (par hypothèse), et on définit $ U=a_{k+1} \\in M _{m,1}(\\mathbb{R})$.\n",
    "On a donc aussi $\\tilde{A} = A^T_{k+1}A_{k+1}$ qui est inversible. Ainsi, d'après la formule de SHerman-Morrison-Woodburry :\n",
    "$$ \\tilde{A}^{-1} = A^{-1} - A^{-1}U(I_p + U^TA^{-1}U)^{-1}U^TA^{-1}$$\n",
    "Donc comme $p=1$ et $U=a_{k+1}$ :  \n",
    "$$ \\tilde{A}^{-1} = A^{-1} - A^{-1}a_{k+1}\\frac{1}{1 + a_{k+1}^TA^{-1}a_{k+1}}a_{k+1}^TA^{-1}$$\n",
    "\n",
    "Avec  $A = A^T_kA_k$ et en introduisant $\\gamma_k = \\frac{1}{1 + a_{k+1}^TA^{-1}a_{k+1}}$ :  \n",
    "$$ \\tilde{A}^{-1} = (A^T_kA_k)^{-1} - \\gamma_k(A^T_kA_k)^{-1}a_{k+1} a_{k+1}^T(A^T_kA_k)^{-1}$$\n",
    "\n",
    "Avec $K_k = \\gamma_k(A^T_kA_k)^{-1}a_{k+1}$ on obtient : \n",
    "\n",
    "$$ \\tilde{A}^{-1} = (A^T_kA_k)^{-1} - K_k a_{k+1}^T(A^T_kA_k)^{-1}$$"
   ]
  },
  {
   "cell_type": "markdown",
   "metadata": {},
   "source": [
    "7. b)\n",
    "Par définition, on a:\n",
    "$$x_{k+1} = (A^T_{k+1}A_{k+1})^{-1}A^T_{k+1}b_{k+1} =  \\tilde{A}^{-1}A^T_{k+1}b_{k+1}$$\n",
    "D'où, avec la 7.a) :\n",
    "\n",
    "$$\n",
    "\\begin{align*}\n",
    "    x_{k+1} & = [(A^T_kA_k)^{-1} - K_k a_{k+1}^T(A^T_kA_k)^{-1}]A^T_{k+1}b_{k+1} \\\\\n",
    "            & = \\quad(A^T_kA_k)^{-1}A^T_{k+1}b_{k+1}- K_k a_{k+1}^T(A^T_kA_k)^{-1}A^T_{k+1}b_{k+1}\n",
    "\\end{align*}\n",
    "$$\n",
    "\n",
    "Or : $A^T_{k+1}b_{k+1} = (A^T_k, a_{k+1})(b_k, \\tilde{b}) = A^T_kb_k + \\tilde{b}a_{k+1}$\n",
    "\n",
    "Donc : \n",
    "\n",
    "$$\n",
    "\\begin{align*}\n",
    "    x_{k+1} &= (A^T_kA_k)^{-1}(A^T_kb_k + \\tilde{b}a_{k+1})- K_k a_{k+1}^T(A^T_kA_k)^{-1}(A^T_kb_k + \\tilde{b}a_{k+1}) \\\\\n",
    "            & = \\quad x_k + \\tilde{b}(A^T_kA_k)^{-1} a_{k+1}- K_k a_{k+1}^Tx_k - \\tilde{b}K_k a_{k+1}^T(A^T_kA_k)^{-1}a_{k+1} \\\\\n",
    "            & = \\quad x_k + \\frac{\\tilde{b}}{\\gamma_k}K_k- K_k a_{k+1}^Tx_k - \\tilde{b}K_k a_{k+1}^T(A^T_kA_k)^{-1}a_{k+1} \\\\\n",
    "            & = \\quad x_k + K_k(\\frac{\\tilde{b}}{\\gamma_k}- a_{k+1}^Tx_k - \\tilde{b}a_{k+1}^T(A^T_kA_k)^{-1}a_{k+1}) \\\\\n",
    "            & = \\quad x_k + K_k(\\frac{\\tilde{b}}{\\gamma_k}- a_{k+1}^Tx_k - \\tilde{b}(\\frac{1}{\\gamma_k}-1)) \\\\\n",
    "            & = \\quad x_k + K_k(\\tilde{b}- a_{k+1}^Tx_k)\n",
    "\\end{align*}\n",
    "$$"
   ]
  },
  {
   "cell_type": "markdown",
   "metadata": {},
   "source": [
    "7. c)\n",
    "On peut definir un algorithme ne nécessitant pas d'inversion de matrices au cours des itérations car en exprimant $x_{k+1}$ en fonction de $x_k$, l'inversion apparaît dans $K_k$. Or il est question d'inverser $(A^T_kA_k)$, chose que nous pouvons faire sans le calculer explicitement étant donnée la relation de récurrence (7)."
   ]
  },
  {
   "cell_type": "code",
   "execution_count": 4,
   "metadata": {},
   "outputs": [
    {
     "ename": "LinAlgError",
     "evalue": "Singular matrix",
     "output_type": "error",
     "traceback": [
      "\u001b[1;31m---------------------------------------------------------------------------\u001b[0m",
      "\u001b[1;31mLinAlgError\u001b[0m                               Traceback (most recent call last)",
      "Cell \u001b[1;32mIn[4], line 25\u001b[0m\n\u001b[0;32m     22\u001b[0m         K \u001b[38;5;241m=\u001b[39m gamma \u001b[38;5;241m*\u001b[39m np\u001b[38;5;241m.\u001b[39mdot(SMW(n\u001b[38;5;241m-\u001b[39m\u001b[38;5;241m1\u001b[39m), a[n])\n\u001b[0;32m     23\u001b[0m         \u001b[38;5;28;01mreturn\u001b[39;00m moindres_carres_recursifs(n\u001b[38;5;241m-\u001b[39m\u001b[38;5;241m1\u001b[39m) \u001b[38;5;241m+\u001b[39m K(b[n] \u001b[38;5;241m-\u001b[39m np\u001b[38;5;241m.\u001b[39mdot(a[n],moindres_carres_recursifs(n\u001b[38;5;241m-\u001b[39m\u001b[38;5;241m1\u001b[39m)))\n\u001b[1;32m---> 25\u001b[0m \u001b[38;5;28mprint\u001b[39m(\u001b[43mnp\u001b[49m\u001b[38;5;241;43m.\u001b[39;49m\u001b[43mlinalg\u001b[49m\u001b[38;5;241;43m.\u001b[39;49m\u001b[43minv\u001b[49m\u001b[43m(\u001b[49m\u001b[43mnp\u001b[49m\u001b[38;5;241;43m.\u001b[39;49m\u001b[43mdot\u001b[49m\u001b[43m(\u001b[49m\u001b[43ma\u001b[49m\u001b[43m[\u001b[49m\u001b[38;5;241;43m0\u001b[39;49m\u001b[43m]\u001b[49m\u001b[43m[\u001b[49m\u001b[43m:\u001b[49m\u001b[43m,\u001b[49m\u001b[43m \u001b[49m\u001b[43mnp\u001b[49m\u001b[38;5;241;43m.\u001b[39;49m\u001b[43mnewaxis\u001b[49m\u001b[43m]\u001b[49m\u001b[43m,\u001b[49m\u001b[43m \u001b[49m\u001b[43ma\u001b[49m\u001b[43m[\u001b[49m\u001b[38;5;241;43m0\u001b[39;49m\u001b[43m]\u001b[49m\u001b[43m[\u001b[49m\u001b[43mnp\u001b[49m\u001b[38;5;241;43m.\u001b[39;49m\u001b[43mnewaxis\u001b[49m\u001b[43m,\u001b[49m\u001b[43m \u001b[49m\u001b[43m:\u001b[49m\u001b[43m]\u001b[49m\u001b[43m)\u001b[49m\u001b[43m)\u001b[49m)\n",
      "File \u001b[1;32mc:\\Users\\rapha\\miniconda3\\Lib\\site-packages\\numpy\\linalg\\linalg.py:561\u001b[0m, in \u001b[0;36minv\u001b[1;34m(a)\u001b[0m\n\u001b[0;32m    559\u001b[0m signature \u001b[38;5;241m=\u001b[39m \u001b[38;5;124m'\u001b[39m\u001b[38;5;124mD->D\u001b[39m\u001b[38;5;124m'\u001b[39m \u001b[38;5;28;01mif\u001b[39;00m isComplexType(t) \u001b[38;5;28;01melse\u001b[39;00m \u001b[38;5;124m'\u001b[39m\u001b[38;5;124md->d\u001b[39m\u001b[38;5;124m'\u001b[39m\n\u001b[0;32m    560\u001b[0m extobj \u001b[38;5;241m=\u001b[39m get_linalg_error_extobj(_raise_linalgerror_singular)\n\u001b[1;32m--> 561\u001b[0m ainv \u001b[38;5;241m=\u001b[39m \u001b[43m_umath_linalg\u001b[49m\u001b[38;5;241;43m.\u001b[39;49m\u001b[43minv\u001b[49m\u001b[43m(\u001b[49m\u001b[43ma\u001b[49m\u001b[43m,\u001b[49m\u001b[43m \u001b[49m\u001b[43msignature\u001b[49m\u001b[38;5;241;43m=\u001b[39;49m\u001b[43msignature\u001b[49m\u001b[43m,\u001b[49m\u001b[43m \u001b[49m\u001b[43mextobj\u001b[49m\u001b[38;5;241;43m=\u001b[39;49m\u001b[43mextobj\u001b[49m\u001b[43m)\u001b[49m\n\u001b[0;32m    562\u001b[0m \u001b[38;5;28;01mreturn\u001b[39;00m wrap(ainv\u001b[38;5;241m.\u001b[39mastype(result_t, copy\u001b[38;5;241m=\u001b[39m\u001b[38;5;28;01mFalse\u001b[39;00m))\n",
      "File \u001b[1;32mc:\\Users\\rapha\\miniconda3\\Lib\\site-packages\\numpy\\linalg\\linalg.py:112\u001b[0m, in \u001b[0;36m_raise_linalgerror_singular\u001b[1;34m(err, flag)\u001b[0m\n\u001b[0;32m    111\u001b[0m \u001b[38;5;28;01mdef\u001b[39;00m \u001b[38;5;21m_raise_linalgerror_singular\u001b[39m(err, flag):\n\u001b[1;32m--> 112\u001b[0m     \u001b[38;5;28;01mraise\u001b[39;00m LinAlgError(\u001b[38;5;124m\"\u001b[39m\u001b[38;5;124mSingular matrix\u001b[39m\u001b[38;5;124m\"\u001b[39m)\n",
      "\u001b[1;31mLinAlgError\u001b[0m: Singular matrix"
     ]
    }
   ],
   "source": [
    "a = np.array([[deltat, -deltat*vitesse[i], deltat*intensite[i], deltat*couple[i]] for i in range(N)])\n",
    "b = np.array([[vitesse_decalee[i]-vitesse[i]] for i in range(N-1)])\n",
    "\n",
    "\n",
    "def SMW(n):\n",
    "    if n == 0 :\n",
    "        return np.linalg.inv(np.dot(a[0][:, np.newaxis], a[0][np.newaxis, :]))\n",
    "\n",
    "    else : \n",
    "        gamma = 1/(1 + np.dot(a[n], np.dot(SMW(n-1), a[n])))\n",
    "        K = gamma * np.dot(SMW(n-1), a[n])\n",
    "        return SMW(n-1) - np.dot(np.outer(K, a[n]), SMW(n-1))\n",
    "\n",
    "\n",
    "\n",
    "def moindres_carres_recursifs(n):\n",
    "    if n == 0 :\n",
    "        x_0 = np.dot(SMW(0), np.transpose(a[0]))*b[0]\n",
    "        return x_0\n",
    "    else : \n",
    "        gamma = 1/(1 + np.dot(a[n], np.dot(SMW(n-1), a[n])))\n",
    "        K = gamma * np.dot(SMW(n-1), a[n])\n",
    "        return moindres_carres_recursifs(n-1) + K(b[n] - np.dot(a[n],moindres_carres_recursifs(n-1)))\n",
    "\n",
    "print(np.linalg.inv(np.dot(a[0][:, np.newaxis], a[0][np.newaxis, :])))\n"
   ]
  },
  {
   "cell_type": "markdown",
   "metadata": {},
   "source": [
    "# 3e partie\n"
   ]
  },
  {
   "cell_type": "markdown",
   "metadata": {},
   "source": [
    "9. Il y a en toute généralité un autre terme à prendre en compte lié à la pente de la route lorsqu'on n'est plus en terrain plat. En l'occurence ce terme est une fonction de la position $\\gamma$ qui n'est pas linéaire\n",
    "\n",
    "Si la pente est nulle, la fonction f ne dépend plus que de "
   ]
  }
 ],
 "metadata": {
  "kernelspec": {
   "display_name": "base",
   "language": "python",
   "name": "python3"
  },
  "language_info": {
   "codemirror_mode": {
    "name": "ipython",
    "version": 3
   },
   "file_extension": ".py",
   "mimetype": "text/x-python",
   "name": "python",
   "nbconvert_exporter": "python",
   "pygments_lexer": "ipython3",
   "version": "3.11.5"
  }
 },
 "nbformat": 4,
 "nbformat_minor": 2
}
