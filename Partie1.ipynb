{
 "cells": [
  {
   "cell_type": "markdown",
   "id": "8b252da2-7948-43c5-b442-34dd6414bdda",
   "metadata": {},
   "source": [
    "Partie I"
   ]
  },
  {
   "cell_type": "markdown",
   "id": "5504a5f9-c490-4239-82e9-da423717e528",
   "metadata": {},
   "source": [
    "1) La somme des termes ∆tI est égale à la consommation (en Ah) lors du trajet qui doit nécessairement être inférieure à la capacité nominale de la batterie, d'où l'obtention de la contrainte 4). En autorisant les valeurs négatives dans la contrainte 3), on pourrait prendre en compte le cas des véhicules qui se rechargent au freinage, tout en gardant notre contrainte 4) inchangée."
   ]
  },
  {
   "cell_type": "markdown",
   "id": "51077683-6f5f-44fd-927b-9104b62063d5",
   "metadata": {},
   "source": [
    "2. α1: En prenant tous les autres coefficients nuls et une vitesse initiale nulle on constate que celui-ci conduit à une augmentation ou diminution de la vitesse on peut imaginer qu'il s'agit alors d'un coefficient lié à la vitesse du vent : négatif si le vent est défavorable et positif sinon.\n",
    "   α2: Coefficient quantifiant les frottements visqueux.\n",
    "   α3 : Coefficient quantifiant l'apport de l'assistance éléctrique dans l'accéleration du vélo.\n",
    "   α4 : Coefficient quantifiant l'apport du pédalage du cycliste dans l'accéleration du vélo.\n",
    "\n",
    "Impact du poids: à priori la masse du cycliste ne modifient pas les coefficients 1 et 2 ou seulement marginalement car les variations des coefficients de frottements dû à l'impact de la masse du cycliste sur sa prise au vent sont négligeables.\n",
    "\n",
    "Les coefficients 3 et 4 dépendent également probablement plutôt des caractéristiques du vélo que de la masse du cycliste."
   ]
  },
  {
   "cell_type": "markdown",
   "id": "34bbe9f9-cc54-4411-a976-6fe78e839927",
   "metadata": {},
   "source": [
    "3.\n",
    "\n",
    "$$ z= (x_i,v_i,I_i,T_i) $$ \n",
    "\n",
    "Soit au total 4(N+1) variables\n",
    "\n",
    "$$f(z) = \\sum_{i=1}^{N}T_{i}^2$$\n",
    "\n",
    "Contrainte égalité:\n",
    "$\n",
    "v_0 = 0\n",
    "$\n",
    ";\n",
    "$\n",
    "v_N = 0\n",
    "$\n",
    ";\n",
    "$\n",
    "x_{i+1} -x_i - ∆t*v_i =0\n",
    "$\n",
    ";\n",
    "$\n",
    "v_{i+1} - v_i - ∆t(α_1 − α_2 * v_i + α_3*I_i + α_4*T_i − gγ(x_i))=0\n",
    "$\n",
    "\n",
    "\n",
    "Contrainte inégalités: \n",
    "\n",
    "$\n",
    "-v_i<0\n",
    "$\n",
    ";\n",
    "$\n",
    "-I_i<0\n",
    "$\n",
    ";\n",
    "$\n",
    "I_i-I_m<0\n",
    "$\n",
    ";\n",
    "$\n",
    "\\sum_{i=1}^{N}∆t*I_i - Q_{bat} <0\n",
    "$"
   ]
  },
  {
   "cell_type": "markdown",
   "id": "31fefaef-9d78-4e74-9922-182f39cba19c",
   "metadata": {},
   "source": [
    "4. On constate aisement que f est convexe (combinaison linéaire à coefficients positifs de fonctions convexes), les contraintes inégalités sont convexes car affine et les contraintes égalités sont affines. Le problème est donc bien convexe."
   ]
  },
  {
   "cell_type": "markdown",
   "id": "cfbcd915-84fd-43b1-87ed-2b867b3b8850",
   "metadata": {},
   "source": [
    "Partie 2"
   ]
  },
  {
   "cell_type": "markdown",
   "id": "8a9dd04d-9a91-4296-a807-5b6d501092f4",
   "metadata": {},
   "source": [
    "5.\n",
    "$\n",
    "v_{i+1} - v_i = ∆t(α_1 − α_2 * v_i + α_3*I_i + α_4*T_i − gγ(x_i))\n",
    "$\n",
    "\n",
    "Donc on pose $ X = (y_1,y_2,y_3,y_4) $\n",
    "\n",
    "$\n",
    "A = ∆t * (\\begin{array}{ccc}\n",
    "   1 & -v_{0} & I_0 & T_0 \\\\\n",
    "   \\vdots & \\vdots & \\vdots  & \\vdots \\\\\n",
    "   1 & -v_{N-1} & I_{N-1} & T_{N-1} \\\\\n",
    "\\end{array})\n",
    "$\n",
    "\n",
    "$\n",
    "b= (\\begin{array}{ccc}\n",
    "  v_{1}-v_{0}\\\\\n",
    "   \\vdots \\\\\n",
    "   v_{N}-v_{N-1}\\\\\n",
    "\\end{array})\n",
    "$\n",
    "\n",
    "Et on cherche à minimiser:\n",
    "$$\\lVert (AX-b) \\rVert^2$$\n",
    "2\r"
   ]
  },
  {
   "cell_type": "code",
   "execution_count": 2,
   "id": "deeba0a0-8425-40b8-ae76-845ca0d082ff",
   "metadata": {},
   "outputs": [
    {
     "name": "stdout",
     "output_type": "stream",
     "text": [
      "[[ 1.         -2.          5.74556696 12.15698719]\n",
      " [ 1.         -2.00000717  5.76067364 12.74411338]\n",
      " [ 1.         -2.00010254  5.02296507 13.19309303]\n",
      " ...\n",
      " [ 1.         -8.77579273  5.96461308  4.90423952]\n",
      " [ 1.         -8.77337443  6.30199587  4.90423952]\n",
      " [ 1.         -8.77105304  6.82317555  4.35164826]]\n",
      "[ 7.17301850e-06  9.53628447e-05 -5.12915169e-05 ... -2.41830477e-03\n",
      " -2.32139148e-03 -2.25092717e-03]\n",
      "[-0.29425586  0.02142857  0.02857143  0.01428571]\n",
      "[0.         0.03287534 0.01661201 0.01205505]\n"
     ]
    },
    {
     "name": "stderr",
     "output_type": "stream",
     "text": [
      "C:\\Users\\TitouanL\\AppData\\Local\\Temp\\ipykernel_5288\\4047297029.py:54: SettingWithCopyWarning: \n",
      "A value is trying to be set on a copy of a slice from a DataFrame\n",
      "\n",
      "See the caveats in the documentation: https://pandas.pydata.org/pandas-docs/stable/user_guide/indexing.html#returning-a-view-versus-a-copy\n",
      "  df['Vitesse predite'][0]=df['Vitesse [m/s]'][0]\n",
      "C:\\Users\\TitouanL\\AppData\\Local\\Temp\\ipykernel_5288\\4047297029.py:57: SettingWithCopyWarning: \n",
      "A value is trying to be set on a copy of a slice from a DataFrame\n",
      "\n",
      "See the caveats in the documentation: https://pandas.pydata.org/pandas-docs/stable/user_guide/indexing.html#returning-a-view-versus-a-copy\n",
      "  df['Vitesse predite'][i] = df['Vitesse predite'][i-1] + dt*(X[0] - X[1]*df['Vitesse predite'][i-1] + X[2]*df['I [A]'][i-1] + X[3]*df['Couple pédale [Nm]'][i-1])\n",
      "C:\\Users\\TitouanL\\AppData\\Local\\Temp\\ipykernel_5288\\4047297029.py:57: FutureWarning: Setting an item of incompatible dtype is deprecated and will raise in a future error of pandas. Value '2.0000071730184987' has dtype incompatible with int64, please explicitly cast to a compatible dtype first.\n",
      "  df['Vitesse predite'][i] = df['Vitesse predite'][i-1] + dt*(X[0] - X[1]*df['Vitesse predite'][i-1] + X[2]*df['I [A]'][i-1] + X[3]*df['Couple pédale [Nm]'][i-1])\n"
     ]
    },
    {
     "data": {
      "image/png": "[encoded data removed]",
      "text/plain": [
       "<Figure size 640x480 with 1 Axes>"
      ]
     },
     "metadata": {},
     "output_type": "display_data"
    }
   ],
   "source": [
    "import pandas as pd\n",
    "import numpy as np\n",
    "import matplotlib.pyplot as plt\n",
    "from scipy.optimize import nnls\n",
    "\n",
    "\n",
    "\n",
    "df=pd.read_csv('data_velo.csv')\n",
    "\n",
    "dt= 0.01\n",
    "\n",
    "# filtrer à 3 chiffres après la virgule le dataframe\n",
    "df['Vitesse [m/s]'] = df['Vitesse [m/s]']\n",
    "df['I [A]'] = df['I [A]']\n",
    "df['Couple pédale [Nm]'] = df['Couple pédale [Nm]']\n",
    "df['Time [s]'] = df['Time [s]']\n",
    "\n",
    "\n",
    "df['vitesse_décalée'] = df['Vitesse [m/s]'].shift(-1)\n",
    "\n",
    "\n",
    "\n",
    "\n",
    "\n",
    "df = df.iloc[:-1]\n",
    "\n",
    "df['B']=df['vitesse_décalée']-df['Vitesse [m/s]']\n",
    "\n",
    "n=len(df)\n",
    "\n",
    "# filtrer à 3 chiffres après la virgule\n",
    "\n",
    "\n",
    "A= np.ones((n,4))\n",
    "A[:,1]=-df['Vitesse [m/s]']\n",
    "A[:,2]=df['I [A]']\n",
    "A[:,3]=df['Couple pédale [Nm]']\n",
    "B=np.array(df['B'])\n",
    "\n",
    "print(A)\n",
    "print(B)\n",
    "\n",
    "A=dt*A\n",
    "\n",
    "\n",
    "# On résout le problème en utilisant la méthode des moindres carrés\n",
    "\n",
    "X = np.linalg.lstsq(A,B,rcond=None)[0]\n",
    "print(X)\n",
    "solution = nnls(A, B)[0]\n",
    "print(solution)\n",
    "\n",
    "df['Vitesse predite']=0\n",
    "df['Vitesse predite'][0]=df['Vitesse [m/s]'][0]\n",
    "\n",
    "for i in range(1,n):\n",
    "    df['Vitesse predite'][i] = df['Vitesse predite'][i-1] + dt*(X[0] - X[1]*df['Vitesse predite'][i-1] + X[2]*df['I [A]'][i-1] + X[3]*df['Couple pédale [Nm]'][i-1])\n",
    "\n",
    "plt.plot(df['Time [s]'],df['Vitesse predite'])\n",
    "plt.plot(df['Time [s]'],df['Vitesse [m/s]'])\n",
    "plt.show()\n",
    "\n",
    "\n"
   ]
  },
  {
   "cell_type": "code",
   "execution_count": null,
   "id": "2d2cdb39-680b-4dcb-b25a-b9c26dbb2033",
   "metadata": {},
   "outputs": [],
   "source": []
  }
 ],
 "metadata": {
  "kernelspec": {
   "display_name": "Python 3 (ipykernel)",
   "language": "python",
   "name": "python3"
  },
  "language_info": {
   "codemirror_mode": {
    "name": "ipython",
    "version": 3
   },
   "file_extension": ".py",
   "mimetype": "text/x-python",
   "name": "python",
   "nbconvert_exporter": "python",
   "pygments_lexer": "ipython3",
   "version": "3.11.7"
  }
 },
 "nbformat": 4,
 "nbformat_minor": 5
}
